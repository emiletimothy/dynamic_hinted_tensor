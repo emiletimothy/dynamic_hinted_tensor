{
 "cells": [
  {
   "cell_type": "code",
   "execution_count": 138,
   "metadata": {},
   "outputs": [],
   "source": [
    "import re\n",
    "import numpy as np"
   ]
  },
  {
   "cell_type": "code",
   "execution_count": 235,
   "metadata": {},
   "outputs": [
    {
     "name": "stdout",
     "output_type": "stream",
     "text": [
      "\n",
      "{1: {'m_24', 'm_27', 'm_4', 'm_3', 'm_21', 'm_6', 'm_14', 'm_29', 'm_19', 'm_16', 'm_7', 'm_15', 'm_18', 'm_20', 'm_1', 'm_9', 'm_10', 'm_26', 'm_13', 'm_17', 'm_12', 'm_28', 'm_2', 'm_25', 'm_23', 'm_30', 'm_11', 'm_5', 'm_22', 'm_8'}, 2: {'m_27', 'm_10', 'm_65', 'm_66', 'm_26', 'm_13', 'm_4', 'm_3', 'm_17', 'm_12', 'm_6', 'm_28', 'm_2', 'm_67', 'm_25', 'm_14', 'm_64', 'm_29', 'm_70', 'm_19', 'm_61', 'm_16', 'm_7', 'm_62', 'm_15', 'm_68', 'm_11', 'm_18', 'm_20', 'm_5', 'm_8', 'm_63', 'm_69', 'm_1', 'm_9'}, 3: {'m_51', 'm_54', 'm_31', 'm_60', 'm_57', 'm_40', 'm_49', 'm_53', 'm_44', 'm_42', 'm_59', 'm_36', 'm_41', 'm_45', 'm_56', 'm_46', 'm_58', 'm_34', 'm_37', 'm_47', 'm_52', 'm_50', 'm_55', 'm_38', 'm_43', 'm_33', 'm_48', 'm_39', 'm_32', 'm_35'}, 4: {'m_41', 'm_31', 'm_66', 'm_45', 'm_56', 'm_46', 'm_58', 'm_47', 'm_37', 'm_34', 'm_67', 'm_57', 'm_70', 'm_40', 'm_49', 'm_50', 'm_55', 'm_68', 'm_38', 'm_44', 'm_43', 'm_42', 'm_48', 'm_33', 'm_69', 'm_36', 'm_59', 'm_39', 'm_32', 'm_35'}, 5: {'m_75', 'm_83', 'm_74', 'm_76', 'm_89', 'm_77', 'm_66', 'm_72', 'm_79', 'm_73', 'm_71', 'm_85', 'm_80', 'm_64', 'm_67', 'm_88', 'm_70', 'm_78', 'm_81', 'm_61', 'm_86', 'm_62', 'm_68', 'm_87', 'm_82', 'm_84', 'm_63', 'm_69', 'm_65'}}\n",
      "\n",
      "Number of products =  89\n",
      "Exponent of matrix multiplication =  2.7889465850494126\n",
      "Num cols\n",
      "{1: ['m_83', 'm_51', 'm_72', 'm_21', 'm_71', 'm_85', 'm_84', 'm_74', 'm_77', 'm_79', 'm_73', 'm_88', 'm_23', 'm_52', 'm_81', 'm_80', 'm_75', 'm_24', 'm_54', 'm_76', 'm_89', 'm_60', 'm_78', 'm_53', 'm_86', 'm_87', 'm_30', 'm_22', 'm_82'], 2: ['m_4', 'm_40', 'm_19', 'm_62', 'm_44', 'm_42', 'm_9', 'm_41', 'm_10', 'm_13', 'm_17', 'm_28', 'm_34', 'm_2', 'm_50', 'm_38', 'm_8', 'm_48', 'm_65', 'm_35', 'm_27', 'm_31', 'm_3', 'm_6', 'm_14', 'm_29', 'm_64', 'm_57', 'm_49', 'm_16', 'm_7', 'm_15', 'm_18', 'm_20', 'm_1', 'm_59', 'm_36', 'm_26', 'm_45', 'm_56', 'm_12', 'm_46', 'm_58', 'm_47', 'm_37', 'm_25', 'm_61', 'm_55', 'm_11', 'm_5', 'm_43', 'm_33', 'm_63', 'm_39', 'm_32'], 3: ['m_68', 'm_67', 'm_70', 'm_66', 'm_69'], 4: [], 5: []}\n",
      "\n",
      "G = [29, 55, 5, 0, 0]\n",
      "mu_p =  0.49006917274311834\n",
      "mu_q =  0.6021128194260755\n",
      "Entanglement Rank =  -0.1428721969540825\n",
      "THIS DOES NOT WORK :(\n"
     ]
    }
   ],
   "source": [
    "T=5\n",
    "\n",
    "# 3x3 matrix multiplication tensor -rosowski - https://arxiv.org/pdf/1904.07683#page=3.26\n",
    "# data = \"\"\"\n",
    "\n",
    "# C_1_1 = m_4 + m_1 + m_2 - m_19 - m_20,\n",
    "# C_2_1 = m_10 + m_7 + m_8 - m_19 - m_20,\n",
    "# C_3_1 = m_16 + m_13 + m_14 - m_19 - m_20,\n",
    "# C_1_2 = m_5 + m_1 + m_3 - m_19 - m_21,\n",
    "# C_2_2 = m_11 + m_7 + m_9 - m_19 - m_21,\n",
    "# C_3_2 = m_17 + m_13 + m_15 - m_19 - m_21,\n",
    "# C_1_3 = m_6 + m_2 + m_3 - m_20 - m_21,\n",
    "# C_2_3 = m_12 + m_8 + m_9 - m_20 - m_21,\n",
    "# C_3_3 = m_18 + m_14 + m_15 - m_20 - m_21,\n",
    "\n",
    "# \"\"\"\n",
    "\n",
    "\n",
    "# 5x5 matrix multiplication tensor - also rosowski - https://arxiv.org/pdf/1904.07683#page=3.26\n",
    "data = \"\"\"\n",
    "\n",
    "c_1_1 = m_1 + m_2 + m_3 + m_4 + m_5 - m_21,\n",
    "c_2_1 = m_1 + m_6 + m_11 + m_16 - m_25 + m_61 - m_66,\n",
    "c_3_1 = m_31 + m_32 + m_33 + m_34 + m_35 - m_51,\n",
    "c_4_1 = m_31 + m_36 + m_41 + m_46 - m_55 + m_66,\n",
    "c_5_1 = m_61 + m_62 + m_63 + m_64 + m_65 + m_66 + m_67 + m_68 + m_69 + m_70 + m_71 + m_72,\n",
    "c_1_2 = m_6 + m_7 + m_8 + m_9 + m_10 - m_22,\n",
    "c_2_2 = m_2 + m_7 + m_12 + m_17 + m_26 + m_62 + m_67,\n",
    "c_3_2 = m_36 + m_37 + m_38 + m_39 + m_40 - m_52,\n",
    "c_4_2 = m_32 + m_37 + m_42 + m_47 - m_56 + m_67,\n",
    "c_5_2 = m_73 + m_74 + m_75 - m_79 + m_73 + m_76 - m_81,\n",
    "c_1_3 = m_11 + m_12 + m_13 + m_14 + m_15 - m_23,\n",
    "c_2_3 = m_3 + m_8 + m_13 + m_18 - m_27 + m_63 - m_68,\n",
    "c_3_3 = m_41 + m_42 + m_43 + m_44 + m_45 - m_53,\n",
    "c_4_3 = m_33 + m_38 + m_43 + m_48 - m_57 + m_68,\n",
    "c_5_3 = m_76 + m_77 + m_78 + m_80 + m_74 + m_77 - m_82,\n",
    "c_1_4 = m_16 + m_17 + m_18 + m_19 + m_20 + m_24,\n",
    "c_2_4 = m_4 + m_9 + m_14 + m_19 - m_28 + m_64 - m_69,\n",
    "c_3_4 = m_46 + m_47 + m_48 + m_49 + m_50 - m_54,\n",
    "c_4_4 = m_34 + m_39 + m_44 + m_49 - m_58 + m_69,\n",
    "c_5_4 = m_73 + m_74 + m_75 + m_76 + m_77 + m_78 - m_79 - m_80 - m_81 - m_82 - m_83 + m_84 + m_75 + m_78 - m_83,\n",
    "c_1_5 = m_1 + m_2 + m_3 + m_4 + m_5 + m_6 + m_7 + m_8 + m_9 + m_10 + m_11 + m_12 + m_13 + m_14 + m_15 + m_16 + m_17 + m_18 + m_19 + m_20 + m_21 + m_22 + m_23 + m_24 + m_25 + m_26 + m_27 + m_28 + m_29 + m_30,\n",
    "c_2_5 = m_5 + m_10 + m_15 + m_20 - m_29 + m_65 - m_70,\n",
    "c_3_5 = m_31 + m_32 + m_33 + m_34 + m_35 + m_36 + m_37 + m_38 + m_39 + m_40 + m_41 + m_42 + m_43 + m_44 + m_45 + m_46 + m_47 + m_48 + m_49 + m_50 + m_51 + m_52 + m_53 + m_54 + m_55 + m_56 + m_57 + m_58 + m_59 + m_60,\n",
    "c_4_5 = m_35 + m_40 + m_45 + m_50 - m_59 + m_70,\n",
    "c_5_5 = m_85 + m_86 + m_87 + m_88 + m_89\n",
    "\n",
    "\"\"\"\n",
    "\n",
    "\n",
    "data = data.replace(\"\\n\", \"\").strip(\",\")\n",
    "entries = data.split(\",\")\n",
    "result = {}\n",
    "for entry in entries:\n",
    "    left, right = entry.split(\"=\")\n",
    "    i, j = map(int, re.findall(r\"\\d+\", left))\n",
    "    variables = re.findall(r\"m_\\d+\", right)\n",
    "    result[(i, j)] = variables\n",
    "\n",
    "# print(result)\n",
    "\n",
    "col_result = {}\n",
    "for i in range(1,T+1):\n",
    "    col_result[i] = set()\n",
    "    for j in range(1,T+1):\n",
    "        col_result[i] = col_result[i].union(set(result[(i,j)]))\n",
    "\n",
    "print()\n",
    "print(col_result)\n",
    "print()\n",
    "\n",
    "c = set()\n",
    "for i in range(1,T+1):\n",
    "    c = c.union(set(col_result[i]))\n",
    "print(\"Number of products = \", len(c))\n",
    "print(\"Exponent of matrix multiplication = \", np.log(len(c))/np.log(T))\n",
    "\n",
    "\n",
    "num_cols = {}\n",
    "for i in range(1,T+1):\n",
    "    num_cols[i]=[]\n",
    "\n",
    "for i in c:\n",
    "    num = 0\n",
    "    for j in range(1,T+1):\n",
    "        num += 1*(i in col_result[j])\n",
    "    num_cols[num].append(i)\n",
    "print(\"Num cols\")\n",
    "print(num_cols)\n",
    "print()\n",
    "\n",
    "G = [len(num_cols[i]) for i in range(1,T+1)]\n",
    "print(\"G =\", G)\n",
    "\n",
    "pi = G/np.sum(G)\n",
    "qi_primer = [(i+1)*G[i] for i in range(len(G))]\n",
    "qi = np.array(qi_primer)/np.sum(qi_primer)\n",
    "\n",
    "mu_p = np.sum([np.log(i+1)*pi[i] for i in range(T)])\n",
    "\n",
    "print(\"mu_p = \", mu_p)\n",
    "\n",
    "mu_q = np.sum([np.log(i+1)*qi[i] for i in range(T)])\n",
    "\n",
    "print(\"mu_q = \", mu_q)\n",
    "\n",
    "sigmaPsquared = np.sum([pi[i]*(np.log(i+1))**2 for i in range(T)]) - mu_p**2\n",
    "sigmaQsquared = np.sum([qi[i]*(np.log(i+1))**2 for i in range(T)]) - mu_q**2\n",
    "\n",
    "e2=0.0001\n",
    "\n",
    "ER = 1/np.sqrt(2*sigmaPsquared*np.log(T)) * (mu_q - mu_p - np.sqrt(-2*sigmaQsquared*np.log(T**(3-e2)/np.sum(qi_primer))))\n",
    "print(\"Entanglement Rank = \",ER)\n",
    "if ER>0:\n",
    "    print(\"THIS WORKS!!!!\")\n",
    "else:\n",
    "    print(\"THIS DOES NOT WORK :(\")"
   ]
  },
  {
   "cell_type": "code",
   "execution_count": 233,
   "metadata": {},
   "outputs": [
    {
     "data": {
      "text/plain": [
       "2.7889465850494126"
      ]
     },
     "execution_count": 233,
     "metadata": {},
     "output_type": "execute_result"
    }
   ],
   "source": [
    "np.log(89)/np.log(5)"
   ]
  },
  {
   "cell_type": "code",
   "execution_count": null,
   "metadata": {},
   "outputs": [],
   "source": [
    "omega - 0.1251377"
   ]
  },
  {
   "cell_type": "code",
   "execution_count": null,
   "metadata": {},
   "outputs": [],
   "source": []
  },
  {
   "cell_type": "code",
   "execution_count": null,
   "metadata": {},
   "outputs": [],
   "source": []
  }
 ],
 "metadata": {
  "kernelspec": {
   "display_name": "Python 3",
   "language": "python",
   "name": "python3"
  },
  "language_info": {
   "codemirror_mode": {
    "name": "ipython",
    "version": 3
   },
   "file_extension": ".py",
   "mimetype": "text/x-python",
   "name": "python",
   "nbconvert_exporter": "python",
   "pygments_lexer": "ipython3",
   "version": "3.12.4"
  }
 },
 "nbformat": 4,
 "nbformat_minor": 2
}
