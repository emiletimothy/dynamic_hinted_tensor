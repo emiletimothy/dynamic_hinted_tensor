{
 "cells": [
  {
   "cell_type": "code",
   "execution_count": 4,
   "metadata": {},
   "outputs": [],
   "source": [
    "import numpy as np\n",
    "import matplotlib.pyplot as plt"
   ]
  },
  {
   "cell_type": "code",
   "execution_count": 5,
   "metadata": {},
   "outputs": [
    {
     "name": "stdout",
     "output_type": "stream",
     "text": [
      "47\n"
     ]
    }
   ],
   "source": [
    "c11 = {\"h15\", \"h26\", \"h2\", \"h30\", \"h32\", \"h39\", \"h40\", \"h42\", \"h45\", \"h7\"}\n",
    "c21 = {\"h11\", \"h12\", \"h14\", \"h20\", \"h22\", \"h24\", \"h25\", \"h29\", \"h35\", \"h36\", \"h37\", \"h38\", \"h44\", \"h47\"}\n",
    "c31 = {\"h11\", \"h12\", \"h14\", \"h15\", \"h26\", \"h30\", \"h39\", \"h42\"}\n",
    "c41 = {\"h15\", \"h22\", \"h24\",\"h25\", \"h26\", \"h32\", \"h39\", \"h42\"}\n",
    "\n",
    "c12 = {\"h12\", \"h17\", \"h20\", \"h23\", \"h27\", \"h28\", \"h35\", \"h39\", \"h3\", \"h9\"}\n",
    "c22 = {\"h12\", \"h17\", \"h18\", \"h19\", \"h20\", \"h21\", \"h35\", \"h39\"}\n",
    "c32 = {\"h12\", \"h13\", \"h14\", \"h15\", \"h17\", \"h28\", \"h35\", \"h39\"}\n",
    "c42 = {\"h13\", \"h14\", \"h15\", \"h18\", \"h19\", \"h21\", \"h32\", \"h33\", \"h36\", \"h38\", \"h42\", \"h43\", \"h46\", \"h47\"}\n",
    "\n",
    "c13 = {\"h1\", \"h27\", \"h39\", \"h40\"}\n",
    "c23 = {\"h16\", \"h17\", \"h18\", \"h19\", \"h21\", \"h39\", \"h40\", \"h4\", \"h6\", \"h9\"}\n",
    "c33 = {\"h11\", \"h12\", \"h13\", \"h14\", \"h15\", \"h1\", \"h2\", \"h39\", \"h3\", \"h5\"}\n",
    "c43 = {\"h10\", \"h22\", \"h24\", \"h25\", \"h26\", \"h27\", \"h31\", \"h39\", \"h7\", \"h8\"}\n",
    "\n",
    "c14 = {\"h1\", \"h21\", \"h24\", \"h29\", \"h33\", \"h39\", \"h41\", \"h47\", \"h4\", \"h8\"}\n",
    "c24 = {\"h16\", \"h17\", \"h18\", \"h21\", \"h24\", \"h29\", \"h39\", \"h47\"}\n",
    "c34 = {\"h16\", \"h17\", \"h18\", \"h25\", \"h26\", \"h28\", \"h30\", \"h31\", \"h34\", \"h35\", \"h37\", \"h38\", \"h42\", \"h46\"}\n",
    "c44 = {\"h21\", \"h24\", \"h25\", \"h26\", \"h31\", \"h33\", \"h39\", \"h47\"}\n",
    "\n",
    "c1 = c11.union(c21).union(c31).union(c41)\n",
    "c2 = c12.union(c22).union(c32).union(c42)\n",
    "c3 = c13.union(c23).union(c33).union(c43)\n",
    "c4 = c14.union(c24).union(c34).union(c44)\n",
    "\n",
    "c = c1.union(c2).union(c3).union(c4)\n",
    "\n",
    "print(len(c)) #sanity check, should be 47\n",
    "\n"
   ]
  },
  {
   "cell_type": "code",
   "execution_count": 59,
   "metadata": {},
   "outputs": [
    {
     "name": "stdout",
     "output_type": "stream",
     "text": [
      "47\n"
     ]
    }
   ],
   "source": [
    "c11 = [2,7,15,26,30,32,39,40,42,45]\n",
    "c21 = [11,12,14,20,22,24,25,29,35,36,37,38,44,47]\n",
    "c31 = [11,12,14,15,26,30,39,42]\n",
    "c41 = [15,22,24,25,26,32,39,42]\n",
    "c12 = [3,9,12,17,20,23,27,28,35,39]\n",
    "c22 = [12,17,18,19,20,21,35,39]\n",
    "c32 = [12,13,14,15,17,28,35,39]\n",
    "c42 = [13,14,15,18,19,21,32,33,36,38,42,43,46,47]\n",
    "c13 = [1,27,39,40]\n",
    "c23 = [4,6,9,16,17,18,19,21,39,40]\n",
    "c33 = [1,2,3,5,11,12,13,14,15,39]\n",
    "c43 = [7,8,10,22,24,25,26,27,31,39]\n",
    "c14 = [1,4,8,21,24,29,33,39,41,47]\n",
    "c24 = [16,17,18,21,24,29,39,47]\n",
    "c34 = [16,17,18,25,26,28,30,31,34,35,37,38,42,46]\n",
    "c44 = [21,24,25,26,31,33,39,47]\n",
    "\n",
    "c1 = set(c11).union(set(c21)).union(set(c31)).union(set(c41))\n",
    "c2 = set(c12).union(set(c22)).union(set(c32)).union(set(c42))\n",
    "c3 = set(c13).union(set(c23)).union(set(c33)).union(set(c43))\n",
    "c4 = set(c14).union(set(c24)).union(set(c34)).union(set(c44))\n",
    "\n",
    "c = c1.union(c2).union(c3).union(c4)\n",
    "\n",
    "print(len(c)) #sanity check, should be 47"
   ]
  },
  {
   "cell_type": "code",
   "execution_count": 61,
   "metadata": {},
   "outputs": [
    {
     "data": {
      "text/plain": [
       "{1: [5, 6, 10, 23, 34, 41, 43, 44, 45],\n",
       " 2: [1,\n",
       "  2,\n",
       "  3,\n",
       "  4,\n",
       "  7,\n",
       "  8,\n",
       "  9,\n",
       "  11,\n",
       "  13,\n",
       "  16,\n",
       "  19,\n",
       "  20,\n",
       "  22,\n",
       "  27,\n",
       "  28,\n",
       "  29,\n",
       "  30,\n",
       "  31,\n",
       "  32,\n",
       "  33,\n",
       "  36,\n",
       "  37,\n",
       "  40,\n",
       "  46],\n",
       " 3: [12, 14, 15, 17, 18, 21, 24, 25, 26, 35, 38, 42, 47],\n",
       " 4: [39]}"
      ]
     },
     "execution_count": 61,
     "metadata": {},
     "output_type": "execute_result"
    }
   ],
   "source": [
    "num_cols = {1: [], 2: [], 3: [], 4: []}\n",
    "\n",
    "for i in c:\n",
    "    num = (i in c1) + (i in c2) + (i in c3) + (i in c4)\n",
    "    num_cols[num].append(i)\n",
    "\n",
    "num_cols"
   ]
  },
  {
   "cell_type": "code",
   "execution_count": 62,
   "metadata": {},
   "outputs": [
    {
     "data": {
      "text/plain": [
       "-0.29057365022469633"
      ]
     },
     "execution_count": 62,
     "metadata": {},
     "output_type": "execute_result"
    }
   ],
   "source": [
    "T=4\n",
    "g1 = len(num_cols[1])\n",
    "g2 = len(num_cols[2])\n",
    "g3 = len(num_cols[3])\n",
    "g4 = len(num_cols[4])\n",
    "\n",
    "sum_gi = g1+g2+g3+g4\n",
    "sum_i_gi = 1*g1+2*g2+3*g3+4*g4\n",
    "\n",
    "p1 = g1/sum_gi\n",
    "p2 = g2/sum_gi\n",
    "p3 = g3/sum_gi\n",
    "p4 = g4/sum_gi\n",
    "\n",
    "q1 = 1*g1/sum_i_gi\n",
    "q2 = 2*g2/sum_i_gi\n",
    "q3 = 3*g3/sum_i_gi\n",
    "q4 = 4*g4/sum_i_gi\n",
    "\n",
    "mu_p = p2 * np.log(2) + p3 * np.log(3) + p4 * np.log(4)\n",
    "mu_q = q2 * np.log(2) + q3 * np.log(3) + q4 * np.log(4)\n",
    "\n",
    "sigma_square_p = p2 * (np.log(2))**2 + p3 * (np.log(3))**2 + p4 * (np.log(4))**2 - mu_p**2\n",
    "sigma_square_q = q2 * (np.log(2))**2 + q3 * (np.log(3))**2 + q4 * (np.log(4))**2 - mu_q**2\n",
    "\n",
    "epsilon1 = 0\n",
    "epsilon2 = 0\n",
    "\n",
    "var1 = np.log(T**(3-epsilon2)/sum_i_gi)\n",
    "\n",
    "entanglement_rank = 1/np.sqrt(2*sigma_square_p*np.log(T)) * (mu_q - mu_p - np.sqrt(-2*sigma_square_q * var1))\n",
    "entanglement_rank"
   ]
  },
  {
   "cell_type": "code",
   "execution_count": 64,
   "metadata": {},
   "outputs": [
    {
     "name": "stdout",
     "output_type": "stream",
     "text": [
      "-0.2302266757900708\n"
     ]
    }
   ],
   "source": [
    "import numpy as np\n",
    "import csv\n",
    "\n",
    "G = np.array([11,12,0])\n",
    "T=len(G)\n",
    "\n",
    "pi = G/np.sum(G)\n",
    "qi_primer = [(i+1)*G[i] for i in range(len(G))]\n",
    "qi = np.array(qi_primer)/np.sum(qi_primer)\n",
    "\n",
    "mu_p = np.sum([np.log(i+1)*pi[i] for i in range(T)])\n",
    "mu_q = np.sum([np.log(i+1)*qi[i] for i in range(T)])\n",
    "\n",
    "sigmaPsquared = np.sum([pi[i]*(np.log(i+1))**2 for i in range(T)]) - mu_p**2\n",
    "sigmaQsquared = np.sum([qi[i]*(np.log(i+1))**2 for i in range(T)]) - mu_q**2\n",
    "\n",
    "e2=0\n",
    "ER = 1/np.sqrt(2*sigmaPsquared*np.log(T)) * (mu_q - mu_p - np.sqrt(-2*sigmaQsquared*np.log(T**(3-e2)/np.sum(qi_primer))))\n",
    "print(ER)\n"
   ]
  },
  {
   "cell_type": "code",
   "execution_count": 65,
   "metadata": {},
   "outputs": [
    {
     "name": "stdout",
     "output_type": "stream",
     "text": [
      "-0.19763359948071033\n"
     ]
    }
   ],
   "source": [
    "max_value = -5\n",
    "\n",
    "with open('/Users/emile/Downloads/dynamic_tensor2/3_by_3_ts.csv', 'r') as file:\n",
    "    csvreader = csv.reader(file)\n",
    "    for row in csvreader:\n",
    "        T=3\n",
    "        G=[int(row[0]),int(row[1]),int(row[2])]\n",
    "\n",
    "        pi = G/np.sum(G)\n",
    "        qi_primer = [(i+1)*G[i] for i in range(len(G))]\n",
    "        qi = np.array(qi_primer)/np.sum(qi_primer)\n",
    "\n",
    "        mu_p = np.sum([np.log(i+1)*pi[i] for i in range(T)])\n",
    "        mu_q = np.sum([np.log(i+1)*qi[i] for i in range(T)])\n",
    "\n",
    "        sigmaPsquared = np.sum([pi[i]*(np.log(i+1))**2 for i in range(T)]) - mu_p**2\n",
    "        sigmaQsquared = np.sum([qi[i]*(np.log(i+1))**2 for i in range(T)]) - mu_q**2\n",
    "\n",
    "        e2=0\n",
    "        ER = 1/np.sqrt(2*sigmaPsquared*np.log(T)) * (mu_q - mu_p - np.sqrt(-2*sigmaQsquared*np.log(T**(3-e2)/np.sum(qi_primer))))\n",
    "        max_value = max(max_value,ER)\n",
    "\n",
    "print(max_value)\n"
   ]
  },
  {
   "cell_type": "code",
   "execution_count": null,
   "metadata": {},
   "outputs": [],
   "source": [
    "for T in range(2,13):\n",
    "  try:\n",
    "    f = factorizations[str(T)+','+str(T)+','+str(T)][1]\n",
    "    # print(\"\\n\")\n",
    "\n",
    "    products = []\n",
    "    for row in f.T:\n",
    "      y = np.reshape(row, (T, T))\n",
    "      products.append(y)\n",
    "\n",
    "    # computing the number of columns that each product affects.\n",
    "    num_columns_affected={}\n",
    "    for i in range(1,T+1):\n",
    "      num_columns_affected[i]=0\n",
    "\n",
    "    for product in products:\n",
    "      num_columns_this_product_affects = 0\n",
    "      for i in range(len(product[0])):\n",
    "        affected = 1*(np.min(product[:,i]) < 0) + 1*(np.max(product[:,i]) > 0)\n",
    "        if affected > 0:\n",
    "          num_columns_this_product_affects += 1\n",
    "      num_columns_affected[num_columns_this_product_affects] += 1\n",
    "\n",
    "    num_columns_affected\n",
    "\n",
    "    G = [num_columns_affected[i] for i in range(1,T+1)]\n",
    "\n",
    "\n",
    "    pi = G/np.sum(G)\n",
    "    qi_primer = [(i+1)*G[i] for i in range(len(G))]\n",
    "    qi = np.array(qi_primer)/np.sum(qi_primer)\n",
    "\n",
    "    mu_p = np.sum([np.log(i+1)*pi[i] for i in range(T)])\n",
    "    mu_q = np.sum([np.log(i+1)*qi[i] for i in range(T)])\n",
    "\n",
    "    sigmaPsquared = np.sum([pi[i]*(np.log(i+1))**2 for i in range(T)]) - mu_p**2\n",
    "    sigmaQsquared = np.sum([qi[i]*(np.log(i+1))**2 for i in range(T)]) - mu_q**2\n",
    "\n",
    "    e2=0\n",
    "    ER = 1/np.sqrt(2*sigmaPsquared*np.log(T)) * (mu_q - mu_p - np.sqrt(-2*sigmaQsquared*np.log(T**(3-e2)/np.sum(qi_primer))))\n",
    "    output_message = \"ER(<\" + str(T) + \",\" + str(T) + \",\" + str(T) + \">) = \" + str(ER)\n",
    "    print(output_message)\n",
    "    # print(\"Tensor rank is\", T, \"and entanglement rank is\", ER)\n",
    "  except:\n",
    "    a = 0"
   ]
  },
  {
   "cell_type": "code",
   "execution_count": null,
   "metadata": {},
   "outputs": [],
   "source": []
  }
 ],
 "metadata": {
  "kernelspec": {
   "display_name": "Python 3",
   "language": "python",
   "name": "python3"
  },
  "language_info": {
   "codemirror_mode": {
    "name": "ipython",
    "version": 3
   },
   "file_extension": ".py",
   "mimetype": "text/x-python",
   "name": "python",
   "nbconvert_exporter": "python",
   "pygments_lexer": "ipython3",
   "version": "3.12.4"
  }
 },
 "nbformat": 4,
 "nbformat_minor": 2
}
